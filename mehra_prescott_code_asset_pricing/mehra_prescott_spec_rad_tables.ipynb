{
 "cells": [
  {
   "cell_type": "markdown",
   "metadata": {},
   "source": [
    "## Replicate the spectral radius tables from the CRRA example"
   ]
  },
  {
   "cell_type": "code",
   "execution_count": 61,
   "metadata": {},
   "outputs": [],
   "source": [
    "%run mp_model "
   ]
  },
  {
   "cell_type": "code",
   "execution_count": 62,
   "metadata": {},
   "outputs": [],
   "source": [
    "mp = MehraPrescott()"
   ]
  },
  {
   "cell_type": "code",
   "execution_count": 63,
   "metadata": {},
   "outputs": [],
   "source": [
    "pd.set_option('precision', 7)"
   ]
  },
  {
   "cell_type": "markdown",
   "metadata": {},
   "source": [
    "Check that the stationary mean and standard deviation line up:"
   ]
  },
  {
   "cell_type": "code",
   "execution_count": 64,
   "metadata": {},
   "outputs": [
    {
     "data": {
      "text/plain": [
       "0.0012558858188906844"
      ]
     },
     "execution_count": 64,
     "metadata": {},
     "output_type": "execute_result"
    }
   ],
   "source": [
    "mp.ssd"
   ]
  },
  {
   "cell_type": "code",
   "execution_count": 65,
   "metadata": {},
   "outputs": [
    {
     "data": {
      "text/plain": [
       "0.01762711864406778"
      ]
     },
     "execution_count": 65,
     "metadata": {},
     "output_type": "execute_result"
    }
   ],
   "source": [
    "mp.smean"
   ]
  },
  {
   "cell_type": "markdown",
   "metadata": {},
   "source": [
    "Here's the spectral radius at default values:"
   ]
  },
  {
   "cell_type": "code",
   "execution_count": 66,
   "metadata": {},
   "outputs": [
    {
     "data": {
      "text/plain": [
       "-0.03643263889142155"
      ]
     },
     "execution_count": 66,
     "metadata": {},
     "output_type": "execute_result"
    }
   ],
   "source": [
    "np.log(spec_rad_analytic(mp))"
   ]
  },
  {
   "cell_type": "code",
   "execution_count": 67,
   "metadata": {},
   "outputs": [],
   "source": [
    "se_mc = stability_exponent_mc_factory(mp, parallel_flag=False)"
   ]
  },
  {
   "cell_type": "code",
   "execution_count": 68,
   "metadata": {},
   "outputs": [
    {
     "name": "stdout",
     "output_type": "stream",
     "text": [
      "CPU times: user 750 ms, sys: 0 ns, total: 750 ms\n",
      "Wall time: 750 ms\n"
     ]
    },
    {
     "data": {
      "text/plain": [
       "-0.03643145162382257"
      ]
     },
     "execution_count": 68,
     "metadata": {},
     "output_type": "execute_result"
    }
   ],
   "source": [
    "%time se_mc(m=15000, n=1000)"
   ]
  },
  {
   "cell_type": "markdown",
   "metadata": {},
   "source": [
    "Once more with parallelization:"
   ]
  },
  {
   "cell_type": "code",
   "execution_count": 69,
   "metadata": {},
   "outputs": [],
   "source": [
    "se_mc = stability_exponent_mc_factory(mp, parallel_flag=True)"
   ]
  },
  {
   "cell_type": "code",
   "execution_count": 72,
   "metadata": {},
   "outputs": [
    {
     "name": "stdout",
     "output_type": "stream",
     "text": [
      "CPU times: user 726 ms, sys: 3.14 ms, total: 729 ms\n",
      "Wall time: 213 ms\n"
     ]
    },
    {
     "data": {
      "text/plain": [
       "-0.0364303978699773"
      ]
     },
     "execution_count": 72,
     "metadata": {},
     "output_type": "execute_result"
    }
   ],
   "source": [
    "%time se_mc(m=15000, n=1000)"
   ]
  },
  {
   "cell_type": "markdown",
   "metadata": {},
   "source": [
    "Generate the table"
   ]
  },
  {
   "cell_type": "code",
   "execution_count": 73,
   "metadata": {},
   "outputs": [],
   "source": [
    "n_vals = np.array([750, 1000])\n",
    "m_vals = np.array([6000, 8000, 10000, 12000, 14000])"
   ]
  },
  {
   "cell_type": "code",
   "execution_count": 74,
   "metadata": {},
   "outputs": [
    {
     "name": "stdout",
     "output_type": "stream",
     "text": [
      "Calculating n=750, m=6000\n",
      "Calculating n=750, m=8000\n",
      "Calculating n=750, m=10000\n",
      "Calculating n=750, m=12000\n",
      "Calculating n=750, m=14000\n",
      "Calculating n=1000, m=6000\n",
      "Calculating n=1000, m=8000\n",
      "Calculating n=1000, m=10000\n",
      "Calculating n=1000, m=12000\n",
      "Calculating n=1000, m=14000\n"
     ]
    }
   ],
   "source": [
    "k = 500\n",
    "draws = np.empty(k)\n",
    "means = np.empty((len(n_vals), len(m_vals)))\n",
    "stds = np.empty((len(n_vals), len(m_vals)))\n",
    "\n",
    "for n_i, n in enumerate(n_vals):\n",
    "    for m_i, m in enumerate(m_vals):\n",
    "        print(f'Calculating n={n}, m={m}')\n",
    "        for i in range(k):\n",
    "            draws[i] = se_mc(n=n, m=m)\n",
    "        means[n_i, m_i] = draws.mean()\n",
    "        stds[n_i, m_i] = draws.std()"
   ]
  },
  {
   "cell_type": "code",
   "execution_count": 75,
   "metadata": {},
   "outputs": [
    {
     "name": "stdout",
     "output_type": "stream",
     "text": [
      "\n",
      "\\begin{table}\n",
      "\\centering\n",
      "\\begin{tabular}{llll}\n",
      "    & m = 6000 & m = 8000 & m = 10000 & m = 12000 & m = 14000 \\\\\n",
      "\\hline \\hline\n",
      "n = 750 & -0.036434 & -0.036434 & -0.036434 & -0.036434 & -0.036434 \\\\\n",
      "         & (0.000005) & (0.000004) & (0.000004) & (0.000003) & (0.000003) \\\\\n",
      "\\hline\n",
      "n = 1000 & -0.036433 & -0.036434 & -0.036433 & -0.036434 & -0.036434 \\\\\n",
      "         & (0.000005) & (0.000004) & (0.000004) & (0.000003) & (0.000003) \\\\\n",
      "\\hline\n",
      "\n",
      "\\end{tabular}\n",
      "\\end{table}\n",
      "\n"
     ]
    }
   ],
   "source": [
    "means_strings = means.round(6).astype(str)\n",
    "n_strings = n_vals.astype(str)\n",
    "\n",
    "start_table = r\"\"\"\n",
    "\\begin{table}\n",
    "\\centering\n",
    "\\begin{tabular}{llll}\n",
    "\"\"\"\n",
    "\n",
    "m_table = ' & m = '.join(m_vals.astype(str))\n",
    "m_table = '    & m = ' + m_table + r' \\\\' + '\\n' + r'\\hline \\hline' '\\n'\n",
    "\n",
    "end_table = r\"\"\"\n",
    "\\end{tabular}\n",
    "\\end{table}\n",
    "\"\"\"\n",
    "\n",
    "row_string = ''\n",
    "for row in range(len(n_strings)):\n",
    "    \n",
    "    temp_means = ' & '.join(means_strings[row, :])\n",
    "    \n",
    "    x = ['{:f}'.format(item) for item in stds[row, :]]    \n",
    "    temp_stds = '(' + ') & ('.join(x) + ')'\n",
    "    row_string += f'n = {n_strings[row]} & ' + temp_means + r' \\\\' + '\\n'\n",
    "    row_string += '         & ' + temp_stds + r' \\\\' + '\\n'\n",
    "    row_string += r'\\hline' '\\n'\n",
    "\n",
    "print(start_table + m_table + row_string + end_table)"
   ]
  },
  {
   "cell_type": "code",
   "execution_count": null,
   "metadata": {},
   "outputs": [],
   "source": []
  }
 ],
 "metadata": {
  "kernelspec": {
   "display_name": "Python 3",
   "language": "python",
   "name": "python3"
  },
  "language_info": {
   "codemirror_mode": {
    "name": "ipython",
    "version": 3
   },
   "file_extension": ".py",
   "mimetype": "text/x-python",
   "name": "python",
   "nbconvert_exporter": "python",
   "pygments_lexer": "ipython3",
   "version": "3.7.1"
  }
 },
 "nbformat": 4,
 "nbformat_minor": 2
}
