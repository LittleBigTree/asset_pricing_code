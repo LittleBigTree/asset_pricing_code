{
 "cells": [
  {
   "cell_type": "code",
   "execution_count": 1,
   "metadata": {},
   "outputs": [],
   "source": [
    "import matplotlib.pyplot as plt\n",
    "import pandas as pd"
   ]
  },
  {
   "cell_type": "code",
   "execution_count": 2,
   "metadata": {},
   "outputs": [],
   "source": [
    "%run src/bycv_model.py"
   ]
  },
  {
   "cell_type": "code",
   "execution_count": 3,
   "metadata": {},
   "outputs": [],
   "source": [
    "by = BYCV()"
   ]
  },
  {
   "cell_type": "code",
   "execution_count": 4,
   "metadata": {},
   "outputs": [],
   "source": [
    "a = stability_exp_analytic(by)"
   ]
  },
  {
   "cell_type": "code",
   "execution_count": 15,
   "metadata": {},
   "outputs": [
    {
     "data": {
      "text/plain": [
       "-0.003154479711489406"
      ]
     },
     "execution_count": 15,
     "metadata": {},
     "output_type": "execute_result"
    }
   ],
   "source": [
    "a"
   ]
  },
  {
   "cell_type": "markdown",
   "metadata": {},
   "source": [
    "A figure showing approximation of stability exponent at different levels of discretization."
   ]
  },
  {
   "cell_type": "code",
   "execution_count": 16,
   "metadata": {},
   "outputs": [],
   "source": [
    "D_vals = np.arange(5, 250, step=5)\n",
    "discrete_exponent_vals = np.empty_like(D_vals, dtype=np.float64)"
   ]
  },
  {
   "cell_type": "code",
   "execution_count": 17,
   "metadata": {},
   "outputs": [],
   "source": [
    "for d, D in enumerate(D_vals):\n",
    "    discrete_exponent_vals[d] = stability_exp_discretized(by, D=D)"
   ]
  },
  {
   "cell_type": "code",
   "execution_count": 20,
   "metadata": {},
   "outputs": [
    {
     "data": {
      "image/png": "[encoded data removed]",
      "text/plain": [
       "<Figure size 432x288 with 1 Axes>"
      ]
     },
     "metadata": {
      "needs_background": "light"
     },
     "output_type": "display_data"
    }
   ],
   "source": [
    "fig, ax = plt.subplots()\n",
    "ax.ticklabel_format(useOffset=False) \n",
    "#ax.set_ylim((a - 1.5 * 1e-8, a + 2 * 1e-9))\n",
    "ax.plot(D_vals, np.ones_like(D_vals) * a, 'g-', label=\"true value\")\n",
    "ax.plot(D_vals, discrete_exponent_vals, 'b--', label=\"discrete approximation\")\n",
    "#ax.set_ylim((-0.0032, 0.0))\n",
    "ax.set_xlim((0, 250))\n",
    "ax.set_xlabel(\"size of state space in discrete approximation\")\n",
    "ax.legend()\n",
    "plt.savefig(\"discretization_vs_true_fig.pdf\")"
   ]
  },
  {
   "cell_type": "code",
   "execution_count": 19,
   "metadata": {},
   "outputs": [
    {
     "data": {
      "text/plain": [
       "array([-0.0031555 , -0.00315493, -0.00315477, -0.0031547 , -0.00315465,\n",
       "       -0.00315462, -0.0031546 , -0.00315458, -0.00315457, -0.00315456,\n",
       "       -0.00315456, -0.00315455, -0.00315454, -0.00315454, -0.00315454,\n",
       "       -0.00315453, -0.00315453, -0.00315453, -0.00315452, -0.00315452,\n",
       "       -0.00315452, -0.00315452, -0.00315452, -0.00315451, -0.00315451,\n",
       "       -0.00315451, -0.00315451, -0.00315451, -0.00315451, -0.00315451,\n",
       "       -0.00315451, -0.00315451, -0.0031545 , -0.0031545 , -0.0031545 ,\n",
       "       -0.0031545 , -0.0031545 , -0.0031545 , -0.0031545 , -0.0031545 ,\n",
       "       -0.0031545 , -0.0031545 , -0.0031545 , -0.0031545 , -0.0031545 ,\n",
       "       -0.0031545 , -0.0031545 , -0.0031545 , -0.0031545 ])"
      ]
     },
     "execution_count": 19,
     "metadata": {},
     "output_type": "execute_result"
    }
   ],
   "source": [
    "discrete_exponent_vals"
   ]
  },
  {
   "cell_type": "markdown",
   "metadata": {},
   "source": [
    "A table that compares discretized val vs actual value for different values of the parameters"
   ]
  },
  {
   "cell_type": "code",
   "execution_count": 32,
   "metadata": {},
   "outputs": [
    {
     "data": {
      "text/plain": [
       "2.5"
      ]
     },
     "execution_count": 32,
     "metadata": {},
     "output_type": "execute_result"
    }
   ],
   "source": [
    "by.γ"
   ]
  },
  {
   "cell_type": "code",
   "execution_count": 56,
   "metadata": {},
   "outputs": [],
   "source": [
    "D_vals = [5, 50, 100, 500]\n",
    "gamma_vals = [7.5, 10, 12.5]\n",
    "\n",
    "se_table = np.empty((len(gamma_vals), len(D_vals) + 1))"
   ]
  },
  {
   "cell_type": "code",
   "execution_count": 57,
   "metadata": {},
   "outputs": [],
   "source": [
    "for i, γ in enumerate(gamma_vals):\n",
    "    by = BYCV(γ=γ)\n",
    "    se_table[i, 0] = stability_exp_analytic(by)\n",
    "    for j, d in enumerate(D_vals):\n",
    "        se_table[i, j+1] = round(stability_exp_discretized(by, D=d), 7)"
   ]
  },
  {
   "cell_type": "code",
   "execution_count": 58,
   "metadata": {},
   "outputs": [
    {
     "data": {
      "text/plain": [
       "array([[-0.00389085, -0.0042114 , -0.00392   , -0.0039054 , -0.0038937 ],\n",
       "       [-0.00123118, -0.002304  , -0.0013374 , -0.0012843 , -0.0012418 ],\n",
       "       [ 0.00344707,  0.000879  ,  0.0031674 ,  0.0033064 ,  0.0034188 ]])"
      ]
     },
     "execution_count": 58,
     "metadata": {},
     "output_type": "execute_result"
    }
   ],
   "source": [
    "se_table"
   ]
  },
  {
   "cell_type": "code",
   "execution_count": 59,
   "metadata": {},
   "outputs": [],
   "source": [
    "def make_table(table):\n",
    "    pd_table = pd.DataFrame(table)\n",
    "    print(pd_table.to_latex(float_format=lambda x: '%1.7f' % x))"
   ]
  },
  {
   "cell_type": "code",
   "execution_count": 60,
   "metadata": {},
   "outputs": [
    {
     "name": "stdout",
     "output_type": "stream",
     "text": [
      "\\begin{tabular}{lrrrrr}\n",
      "\\toprule\n",
      "{} &          0 &          1 &          2 &          3 &          4 \\\\\n",
      "\\midrule\n",
      "0 & -0.0038908 & -0.0042114 & -0.0039200 & -0.0039054 & -0.0038937 \\\\\n",
      "1 & -0.0012312 & -0.0023040 & -0.0013374 & -0.0012843 & -0.0012418 \\\\\n",
      "2 &  0.0034471 &  0.0008790 &  0.0031674 &  0.0033064 &  0.0034188 \\\\\n",
      "\\bottomrule\n",
      "\\end{tabular}\n",
      "\n"
     ]
    }
   ],
   "source": [
    "make_table(se_table)"
   ]
  },
  {
   "cell_type": "code",
   "execution_count": null,
   "metadata": {},
   "outputs": [],
   "source": []
  },
  {
   "cell_type": "code",
   "execution_count": null,
   "metadata": {},
   "outputs": [],
   "source": []
  }
 ],
 "metadata": {
  "kernelspec": {
   "display_name": "Python 3",
   "language": "python",
   "name": "python3"
  },
  "language_info": {
   "codemirror_mode": {
    "name": "ipython",
    "version": 3
   },
   "file_extension": ".py",
   "mimetype": "text/x-python",
   "name": "python",
   "nbconvert_exporter": "python",
   "pygments_lexer": "ipython3",
   "version": "3.7.1"
  }
 },
 "nbformat": 4,
 "nbformat_minor": 2
}
