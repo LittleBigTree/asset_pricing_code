{
 "cells": [
  {
   "cell_type": "markdown",
   "metadata": {},
   "source": [
    "## Risk-adjusted mean consumption growth, MC method"
   ]
  },
  {
   "cell_type": "code",
   "execution_count": 1,
   "metadata": {},
   "outputs": [],
   "source": [
    "%run src/bycv_model.py"
   ]
  },
  {
   "cell_type": "code",
   "execution_count": 2,
   "metadata": {},
   "outputs": [],
   "source": [
    "by = BYCV()"
   ]
  },
  {
   "cell_type": "markdown",
   "metadata": {},
   "source": [
    "Here's the spectral radius at default values:"
   ]
  },
  {
   "cell_type": "code",
   "execution_count": 3,
   "metadata": {},
   "outputs": [
    {
     "data": {
      "text/plain": [
       "-0.003154479711489406"
      ]
     },
     "execution_count": 3,
     "metadata": {},
     "output_type": "execute_result"
    }
   ],
   "source": [
    "stability_exp_analytic(by)"
   ]
  },
  {
   "cell_type": "code",
   "execution_count": 4,
   "metadata": {},
   "outputs": [],
   "source": [
    "f = stability_exponent_mc_factory(by, parallel_flag=False)"
   ]
  },
  {
   "cell_type": "code",
   "execution_count": 5,
   "metadata": {},
   "outputs": [
    {
     "name": "stdout",
     "output_type": "stream",
     "text": [
      "CPU times: user 391 ms, sys: 0 ns, total: 391 ms\n",
      "Wall time: 390 ms\n"
     ]
    },
    {
     "data": {
      "text/plain": [
       "-0.0031928646389559638"
      ]
     },
     "execution_count": 5,
     "metadata": {},
     "output_type": "execute_result"
    }
   ],
   "source": [
    "%time f(m=1500, n=1000)"
   ]
  },
  {
   "cell_type": "markdown",
   "metadata": {},
   "source": [
    "Once more with parallelization:"
   ]
  },
  {
   "cell_type": "code",
   "execution_count": 6,
   "metadata": {},
   "outputs": [],
   "source": [
    "f = stability_exponent_mc_factory(by, parallel_flag=True)"
   ]
  },
  {
   "cell_type": "code",
   "execution_count": 9,
   "metadata": {},
   "outputs": [
    {
     "name": "stdout",
     "output_type": "stream",
     "text": [
      "CPU times: user 256 ms, sys: 0 ns, total: 256 ms\n",
      "Wall time: 42.5 ms\n"
     ]
    },
    {
     "data": {
      "text/plain": [
       "-0.003293215724063607"
      ]
     },
     "execution_count": 9,
     "metadata": {},
     "output_type": "execute_result"
    }
   ],
   "source": [
    "%time f(m=1500, n=1000)"
   ]
  },
  {
   "cell_type": "markdown",
   "metadata": {},
   "source": [
    "Generate the table"
   ]
  },
  {
   "cell_type": "code",
   "execution_count": 10,
   "metadata": {},
   "outputs": [],
   "source": [
    "n_vals = np.array([250, 500, 750])\n",
    "m_vals = np.array([1000, 2000, 3000, 4000, 5000])"
   ]
  },
  {
   "cell_type": "code",
   "execution_count": 14,
   "metadata": {},
   "outputs": [
    {
     "name": "stdout",
     "output_type": "stream",
     "text": [
      "Calculating n=250, m=1000\n",
      "Calculating n=250, m=2000\n",
      "Calculating n=250, m=3000\n",
      "Calculating n=250, m=4000\n",
      "Calculating n=250, m=5000\n",
      "Calculating n=500, m=1000\n",
      "Calculating n=500, m=2000\n",
      "Calculating n=500, m=3000\n",
      "Calculating n=500, m=4000\n",
      "Calculating n=500, m=5000\n",
      "Calculating n=750, m=1000\n",
      "Calculating n=750, m=2000\n",
      "Calculating n=750, m=3000\n",
      "Calculating n=750, m=4000\n",
      "Calculating n=750, m=5000\n"
     ]
    }
   ],
   "source": [
    "k = 1000\n",
    "MC_draws = np.empty(k)\n",
    "\n",
    "MC_means = np.empty((len(n_vals), len(m_vals)))\n",
    "MC_stds = np.empty((len(n_vals), len(m_vals)))\n",
    "\n",
    "for n_i, n in enumerate(n_vals):\n",
    "    for m_i, m in enumerate(m_vals):\n",
    "        print(f'Calculating n={n}, m={m}')\n",
    "        \n",
    "        for i in range(k):\n",
    "            MC_draws[i] = f(n=n, m=m)\n",
    "                \n",
    "        MC_means[n_i, m_i] = MC_draws.mean()\n",
    "        MC_stds[n_i, m_i] = MC_draws.std()\n",
    "        "
   ]
  },
  {
   "cell_type": "code",
   "execution_count": 15,
   "metadata": {},
   "outputs": [],
   "source": [
    "def make_table(means, stds):\n",
    "    means_strings = means.round(7).astype(str)\n",
    "    n_strings = n_vals.astype(str)\n",
    "\n",
    "    start_table = r\"\"\"\n",
    "    \\begin{table}\n",
    "    \\centering\n",
    "    \\begin{tabular}{llll}\n",
    "    \"\"\"\n",
    "\n",
    "    m_table = ' & m = '.join(m_vals.astype(str))\n",
    "    m_table = '    & m = ' + m_table + r' \\\\' + '\\n' + r'\\hline \\hline' '\\n'\n",
    "\n",
    "    end_table = r\"\"\"\n",
    "    \\end{tabular}\n",
    "    \\end{table}\n",
    "    \"\"\"\n",
    "\n",
    "    row_string = ''\n",
    "    for row in range(len(n_strings)):\n",
    "        temp_means = ' & '.join(means_strings[row, :])\n",
    "\n",
    "        x = ['{:f}'.format(item) for item in stds[row, :]]    \n",
    "        temp_stds = '(' + ') & ('.join(x) + ')'\n",
    "        row_string += f'n = {n_strings[row]} & ' + temp_means + r' \\\\' + '\\n'\n",
    "        row_string += '         & ' + temp_stds + r' \\\\' + '\\n'\n",
    "        row_string += r'\\hline' '\\n'\n",
    "\n",
    "    print(start_table + m_table + row_string + end_table)"
   ]
  },
  {
   "cell_type": "code",
   "execution_count": 16,
   "metadata": {},
   "outputs": [
    {
     "name": "stdout",
     "output_type": "stream",
     "text": [
      "\n",
      "    \\begin{table}\n",
      "    \\centering\n",
      "    \\begin{tabular}{llll}\n",
      "        & m = 1000 & m = 2000 & m = 3000 & m = 4000 & m = 5000 \\\\\n",
      "\\hline \\hline\n",
      "n = 250 & -0.0033183 & -0.0032524 & -0.0032434 & -0.0032533 & -0.0032353 \\\\\n",
      "         & (0.000099) & (0.000065) & (0.000056) & (0.000047) & (0.000042) \\\\\n",
      "\\hline\n",
      "n = 500 & -0.0032045 & -0.0032149 & -0.0031948 & -0.0031907 & -0.0031922 \\\\\n",
      "         & (0.000080) & (0.000058) & (0.000045) & (0.000040) & (0.000036) \\\\\n",
      "\\hline\n",
      "n = 750 & -0.0031985 & -0.0031841 & -0.0031748 & -0.0031784 & -0.003189 \\\\\n",
      "         & (0.000080) & (0.000054) & (0.000044) & (0.000041) & (0.000038) \\\\\n",
      "\\hline\n",
      "\n",
      "    \\end{tabular}\n",
      "    \\end{table}\n",
      "    \n"
     ]
    }
   ],
   "source": [
    "make_table(MC_means, MC_stds)"
   ]
  },
  {
   "cell_type": "code",
   "execution_count": null,
   "metadata": {},
   "outputs": [],
   "source": []
  },
  {
   "cell_type": "code",
   "execution_count": null,
   "metadata": {},
   "outputs": [],
   "source": []
  }
 ],
 "metadata": {
  "kernelspec": {
   "display_name": "Python 3",
   "language": "python",
   "name": "python3"
  },
  "language_info": {
   "codemirror_mode": {
    "name": "ipython",
    "version": 3
   },
   "file_extension": ".py",
   "mimetype": "text/x-python",
   "name": "python",
   "nbconvert_exporter": "python",
   "pygments_lexer": "ipython3",
   "version": "3.7.1"
  }
 },
 "nbformat": 4,
 "nbformat_minor": 2
}
