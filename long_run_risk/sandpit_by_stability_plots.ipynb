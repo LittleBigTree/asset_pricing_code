{
 "cells": [
  {
   "cell_type": "code",
   "execution_count": 1,
   "metadata": {},
   "outputs": [],
   "source": [
    "%run src/by_model.py\n",
    "%run src/utility_solver.py\n",
    "%run src/stability_plots.py"
   ]
  },
  {
   "cell_type": "code",
   "execution_count": 2,
   "metadata": {},
   "outputs": [
    {
     "name": "stdout",
     "output_type": "stream",
     "text": [
      "Converged in 3627 iterations\n"
     ]
    },
    {
     "data": {
      "text/plain": [
       "array([[515.71077618, 515.22524021, 514.74064549, 514.25063455,\n",
       "        513.75210638, 513.24468433, 512.73062444, 512.21648829],\n",
       "       [519.8701125 , 519.32426714, 518.78221497, 518.23724967,\n",
       "        517.68590429, 517.12760958, 516.564414  , 516.0029844 ],\n",
       "       [524.50729918, 523.90159792, 523.3019665 , 522.70117193,\n",
       "        522.09551465, 521.48410355, 520.86906019, 520.25728871],\n",
       "       [529.49285772, 528.83476492, 528.18448712, 527.53396477,\n",
       "        526.87935985, 526.21942395, 525.55667482, 524.89846654],\n",
       "       [534.78224935, 534.08362091, 533.39400166, 532.70445147,\n",
       "        532.01093962, 531.31215237, 530.61079693, 529.91511113],\n",
       "       [540.4129598 , 539.6920399 , 538.98065856, 538.26919844,\n",
       "        537.55327435, 536.83175369, 536.10752989, 535.38970243],\n",
       "       [546.58585443, 545.87428493, 545.17148486, 544.46767719,\n",
       "        543.75800015, 543.04149343, 542.32165082, 541.60784358],\n",
       "       [554.02868133, 553.38703027, 552.75013828, 552.10864648,\n",
       "        551.45764496, 550.79652209, 550.1294133 , 549.46582129]])"
      ]
     },
     "execution_count": 2,
     "metadata": {},
     "output_type": "execute_result"
    }
   ],
   "source": [
    "by = BY()\n",
    "compute_recursive_utility(by)\n",
    "by.w_star_guess"
   ]
  },
  {
   "cell_type": "code",
   "execution_count": 8,
   "metadata": {},
   "outputs": [],
   "source": [
    "f = by.stability_exponent_factory(parallel_flag=True)"
   ]
  },
  {
   "cell_type": "code",
   "execution_count": 11,
   "metadata": {},
   "outputs": [
    {
     "name": "stdout",
     "output_type": "stream",
     "text": [
      "CPU times: user 2.32 s, sys: 6.52 ms, total: 2.33 s\n",
      "Wall time: 325 ms\n"
     ]
    },
    {
     "data": {
      "text/plain": [
       "-0.004567342028917863"
      ]
     },
     "execution_count": 11,
     "metadata": {},
     "output_type": "execute_result"
    }
   ],
   "source": [
    "%%time\n",
    "f()"
   ]
  },
  {
   "cell_type": "code",
   "execution_count": 12,
   "metadata": {},
   "outputs": [
    {
     "data": {
      "text/plain": [
       "-0.0038791072693376977"
      ]
     },
     "execution_count": 12,
     "metadata": {},
     "output_type": "execute_result"
    }
   ],
   "source": [
    "f()"
   ]
  },
  {
   "cell_type": "markdown",
   "metadata": {},
   "source": [
    "### Mean and standard deviation"
   ]
  },
  {
   "cell_type": "code",
   "execution_count": 13,
   "metadata": {},
   "outputs": [
    {
     "name": "stdout",
     "output_type": "stream",
     "text": [
      "-0.0038859601134564187\n",
      "0.000881397712414031\n"
     ]
    }
   ],
   "source": [
    "k = 1000\n",
    "draws = np.empty(k)\n",
    "for i in range(k):\n",
    "    draws[i] = f()\n",
    "print(draws.mean())\n",
    "print(draws.std())"
   ]
  },
  {
   "cell_type": "code",
   "execution_count": 14,
   "metadata": {},
   "outputs": [
    {
     "data": {
      "text/plain": [
       "0.003346439025741242"
      ]
     },
     "execution_count": 14,
     "metadata": {},
     "output_type": "execute_result"
    }
   ],
   "source": [
    "draws.max()"
   ]
  },
  {
   "cell_type": "code",
   "execution_count": 15,
   "metadata": {},
   "outputs": [
    {
     "name": "stdout",
     "output_type": "stream",
     "text": [
      "Converged in 3627 iterations\n"
     ]
    },
    {
     "data": {
      "image/png": "[encoded data removed]",
      "text/plain": [
       "<Figure size 720x410.4 with 2 Axes>"
      ]
     },
     "metadata": {
      "needs_background": "light"
     },
     "output_type": "display_data"
    }
   ],
   "source": [
    "stability_plot(BY, \n",
    "               'α', 1.0, 5.0, \n",
    "               'μ_d', -0.002, 0.008, \n",
    "                ylabel=\"$\\mu_d$\",\n",
    "                coords=(-100, 30), \n",
    "                G=10)"
   ]
  },
  {
   "cell_type": "markdown",
   "metadata": {},
   "source": [
    "## Experiments Only"
   ]
  },
  {
   "cell_type": "code",
   "execution_count": 7,
   "metadata": {},
   "outputs": [
    {
     "data": {
      "text/plain": [
       "(10.0, 0.998)"
      ]
     },
     "execution_count": 7,
     "metadata": {},
     "output_type": "execute_result"
    }
   ],
   "source": [
    "by.γ, by.β"
   ]
  },
  {
   "cell_type": "code",
   "execution_count": 8,
   "metadata": {
    "scrolled": false
   },
   "outputs": [
    {
     "name": "stdout",
     "output_type": "stream",
     "text": [
      "Converged in 3627 iterations\n",
      "Converged in 1657 iterations\n",
      "Converged in 1825 iterations\n",
      "Converged in 1734 iterations\n",
      "Converged in 1639 iterations\n",
      "Converged in 1547 iterations\n",
      "Converged in 1459 iterations\n",
      "Converged in 1378 iterations\n",
      "Converged in 1305 iterations\n",
      "Converged in 1240 iterations\n",
      "Converged in 1182 iterations\n",
      "Converged in 1130 iterations\n",
      "Converged in 1085 iterations\n",
      "Converged in 3190 iterations\n",
      "Converged in 1975 iterations\n",
      "Converged in 1896 iterations\n",
      "Converged in 1787 iterations\n",
      "Converged in 1682 iterations\n",
      "Converged in 1583 iterations\n",
      "Converged in 1492 iterations\n",
      "Converged in 1411 iterations\n",
      "Converged in 1339 iterations\n",
      "Converged in 1275 iterations\n",
      "Converged in 1218 iterations\n",
      "Converged in 1168 iterations\n",
      "Converged in 3490 iterations\n",
      "Converged in 2184 iterations\n",
      "Converged in 2085 iterations\n",
      "Converged in 1959 iterations\n",
      "Converged in 1838 iterations\n",
      "Converged in 1725 iterations\n",
      "Converged in 1624 iterations\n",
      "Converged in 1533 iterations\n",
      "Converged in 1452 iterations\n",
      "Converged in 1381 iterations\n",
      "Converged in 1319 iterations\n",
      "Converged in 1263 iterations\n",
      "Converged in 3846 iterations\n",
      "Converged in 2433 iterations\n",
      "Converged in 2309 iterations\n",
      "Converged in 2161 iterations\n",
      "Converged in 2020 iterations\n",
      "Converged in 1892 iterations\n",
      "Converged in 1776 iterations\n",
      "Converged in 1673 iterations\n",
      "Converged in 1583 iterations\n",
      "Converged in 1504 iterations\n",
      "Converged in 1434 iterations\n",
      "Converged in 1372 iterations\n",
      "Converged in 4276 iterations\n",
      "Converged in 2734 iterations\n",
      "Converged in 2578 iterations\n",
      "Converged in 2401 iterations\n",
      "Converged in 2236 iterations\n",
      "Converged in 2087 iterations\n",
      "Converged in 1954 iterations\n",
      "Converged in 1837 iterations\n",
      "Converged in 1735 iterations\n",
      "Converged in 1645 iterations\n",
      "Converged in 1566 iterations\n",
      "Converged in 1497 iterations\n",
      "Converged in 4804 iterations\n",
      "Converged in 3106 iterations\n",
      "Converged in 2905 iterations\n",
      "Converged in 2691 iterations\n",
      "Converged in 2495 iterations\n",
      "Converged in 2320 iterations\n",
      "Converged in 2166 iterations\n",
      "Converged in 2031 iterations\n",
      "Converged in 1914 iterations\n",
      "Converged in 1811 iterations\n",
      "Converged in 1722 iterations\n",
      "Converged in 1643 iterations\n",
      "Converged in 5467 iterations\n",
      "Converged in 3573 iterations\n",
      "Converged in 3312 iterations\n",
      "Converged in 3048 iterations\n",
      "Converged in 2810 iterations\n",
      "Converged in 2601 iterations\n",
      "Converged in 2420 iterations\n",
      "Converged in 2262 iterations\n",
      "Converged in 2126 iterations\n",
      "Converged in 2008 iterations\n",
      "Converged in 1905 iterations\n",
      "Converged in 1815 iterations\n",
      "Converged in 6322 iterations\n",
      "Converged in 4177 iterations\n",
      "Converged in 3830 iterations\n",
      "Converged in 3495 iterations\n",
      "Converged in 3202 iterations\n",
      "Converged in 2948 iterations\n",
      "Converged in 2730 iterations\n",
      "Converged in 2543 iterations\n",
      "Converged in 2383 iterations\n",
      "Converged in 2244 iterations\n",
      "Converged in 2125 iterations\n",
      "Converged in 2020 iterations\n",
      "Converged in 7466 iterations\n",
      "Converged in 4985 iterations\n",
      "Converged in 4508 iterations\n",
      "Converged in 4072 iterations\n",
      "Converged in 3699 iterations\n",
      "Converged in 3383 iterations\n",
      "Converged in 3116 iterations\n",
      "Converged in 2890 iterations\n",
      "Converged in 2697 iterations\n",
      "Converged in 2533 iterations\n",
      "Converged in 2391 iterations\n",
      "Converged in 2269 iterations\n",
      "Converged in 9070 iterations\n",
      "Converged in 6112 iterations\n",
      "Converged in 5430 iterations\n",
      "Converged in 4839 iterations\n",
      "Converged in 4349 iterations\n",
      "Converged in 3944 iterations\n",
      "Converged in 3608 iterations\n",
      "Converged in 3328 iterations\n",
      "Converged in 3092 iterations\n",
      "Converged in 2893 iterations\n",
      "Converged in 2722 iterations\n",
      "Converged in 2574 iterations\n",
      "Converged in 11477 iterations\n",
      "Converged in 7786 iterations\n"
     ]
    },
    {
     "name": "stderr",
     "output_type": "stream",
     "text": [
      "ERROR:root:Internal Python error in the inspect module.\n",
      "Below is the traceback from this internal error.\n",
      "\n"
     ]
    },
    {
     "name": "stdout",
     "output_type": "stream",
     "text": [
      "Traceback (most recent call last):\n",
      "  File \"/home/john/anaconda3/lib/python3.7/site-packages/IPython/core/interactiveshell.py\", line 2910, in run_code\n",
      "    exec(code_obj, self.user_global_ns, self.user_ns)\n",
      "  File \"<ipython-input-8-35ec37554135>\", line 5, in <module>\n",
      "    G=12)\n",
      "  File \"/home/john/sync_dir/papers/fwd_looking_eqs/asset_pricing/public/ez_code/src/stability_plots.py\", line 56, in stability_plot\n",
      "    compute_recursive_utility(md)\n",
      "  File \"/home/john/sync_dir/papers/fwd_looking_eqs/asset_pricing/public/ez_code/src/utility_solver.py\", line 21, in compute_recursive_utility\n",
      "    w_out = T(w_in)\n",
      "KeyboardInterrupt\n",
      "\n",
      "During handling of the above exception, another exception occurred:\n",
      "\n",
      "Traceback (most recent call last):\n",
      "  File \"/home/john/anaconda3/lib/python3.7/site-packages/IPython/core/interactiveshell.py\", line 1828, in showtraceback\n",
      "    stb = value._render_traceback_()\n",
      "AttributeError: 'KeyboardInterrupt' object has no attribute '_render_traceback_'\n",
      "\n",
      "During handling of the above exception, another exception occurred:\n",
      "\n",
      "Traceback (most recent call last):\n",
      "  File \"/home/john/anaconda3/lib/python3.7/site-packages/IPython/core/ultratb.py\", line 1090, in get_records\n",
      "    return _fixed_getinnerframes(etb, number_of_lines_of_context, tb_offset)\n",
      "  File \"/home/john/anaconda3/lib/python3.7/site-packages/IPython/core/ultratb.py\", line 311, in wrapped\n",
      "    return f(*args, **kwargs)\n",
      "  File \"/home/john/anaconda3/lib/python3.7/site-packages/IPython/core/ultratb.py\", line 345, in _fixed_getinnerframes\n",
      "    records = fix_frame_records_filenames(inspect.getinnerframes(etb, context))\n",
      "  File \"/home/john/anaconda3/lib/python3.7/inspect.py\", line 1500, in getinnerframes\n",
      "    frameinfo = (tb.tb_frame,) + getframeinfo(tb, context)\n",
      "  File \"/home/john/anaconda3/lib/python3.7/inspect.py\", line 1458, in getframeinfo\n",
      "    filename = getsourcefile(frame) or getfile(frame)\n",
      "  File \"/home/john/anaconda3/lib/python3.7/inspect.py\", line 696, in getsourcefile\n",
      "    if getattr(getmodule(object, filename), '__loader__', None) is not None:\n",
      "  File \"/home/john/anaconda3/lib/python3.7/inspect.py\", line 742, in getmodule\n",
      "    os.path.realpath(f)] = module.__name__\n",
      "AttributeError: module has no attribute '__name__'\n"
     ]
    },
    {
     "ename": "KeyboardInterrupt",
     "evalue": "",
     "output_type": "error",
     "traceback": [
      "\u001b[0;31m---------------------------------------------------------------------------\u001b[0m"
     ]
    }
   ],
   "source": [
    "stability_plot(BY,\n",
    "               'β', 0.9975, 0.999,\n",
    "               'γ', 1.1, 14, \n",
    "                coords=(-225, -30), \n",
    "                G=12)"
   ]
  },
  {
   "cell_type": "code",
   "execution_count": null,
   "metadata": {},
   "outputs": [],
   "source": [
    "by.β, by.μ_d"
   ]
  },
  {
   "cell_type": "code",
   "execution_count": null,
   "metadata": {},
   "outputs": [],
   "source": [
    "stability_plot(BY, \n",
    "               'β', 0.995, 0.9985, \n",
    "               'μ_d', 0.0, 0.01, \n",
    "                ylabel=\"$\\mu_d$\",\n",
    "                coords=(-100, 30), \n",
    "                G=12)"
   ]
  },
  {
   "cell_type": "code",
   "execution_count": null,
   "metadata": {},
   "outputs": [],
   "source": [
    "by.α"
   ]
  },
  {
   "cell_type": "code",
   "execution_count": null,
   "metadata": {},
   "outputs": [],
   "source": [
    "stability_plot(BY, \n",
    "               'α', -0.6, 4.0, \n",
    "               'μ_d', -0.02, 0.008, \n",
    "                ylabel=\"$\\mu_d$\",\n",
    "                coords=(-100, 30), \n",
    "                one_step=True,\n",
    "                G=10)"
   ]
  },
  {
   "cell_type": "code",
   "execution_count": null,
   "metadata": {},
   "outputs": [],
   "source": [
    "by.ϕ_d"
   ]
  },
  {
   "cell_type": "code",
   "execution_count": null,
   "metadata": {},
   "outputs": [],
   "source": [
    "stability_plot(BY, \n",
    "               'α', 1.0, 5.0, \n",
    "               'ϕ_d', 0.0, 10.0, \n",
    "                ylabel=\"$\\mu_d$\",\n",
    "                coords=(-100, 30), \n",
    "                G=3)"
   ]
  },
  {
   "cell_type": "code",
   "execution_count": null,
   "metadata": {},
   "outputs": [],
   "source": [
    "by.β, by.d"
   ]
  },
  {
   "cell_type": "code",
   "execution_count": null,
   "metadata": {},
   "outputs": [],
   "source": [
    "by.β, by.ϕ_z"
   ]
  },
  {
   "cell_type": "code",
   "execution_count": null,
   "metadata": {},
   "outputs": [],
   "source": [
    "stability_plot(BY,\n",
    "               'β', 0.9975, 0.999, \n",
    "               'φ_z', 0.005, 0.06,\n",
    "                coords=(-50, 30), \n",
    "                G=8)"
   ]
  },
  {
   "cell_type": "code",
   "execution_count": null,
   "metadata": {},
   "outputs": [],
   "source": []
  }
 ],
 "metadata": {
  "kernelspec": {
   "display_name": "Python 3",
   "language": "python",
   "name": "python3"
  },
  "language_info": {
   "codemirror_mode": {
    "name": "ipython",
    "version": 3
   },
   "file_extension": ".py",
   "mimetype": "text/x-python",
   "name": "python",
   "nbconvert_exporter": "python",
   "pygments_lexer": "ipython3",
   "version": "3.7.1"
  }
 },
 "nbformat": 4,
 "nbformat_minor": 2
}
